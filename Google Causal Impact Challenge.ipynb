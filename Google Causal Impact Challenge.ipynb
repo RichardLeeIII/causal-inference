{
 "cells": [
  {
   "cell_type": "markdown",
   "metadata": {
    "id": "1QbnZR3XHjI-"
   },
   "source": [
    "#Libraries, Dates and Data"
   ]
  },
  {
   "cell_type": "markdown",
   "metadata": {},
   "source": [
    "This shows how much effect has caused on META stock price by data usage scandal that has broke out from March 2018 to July 2024 before lawsuit has happened"
   ]
  },
  {
   "cell_type": "code",
   "execution_count": 68,
   "metadata": {
    "colab": {
     "base_uri": "https://localhost:8080/"
    },
    "executionInfo": {
     "elapsed": 19982,
     "status": "ok",
     "timestamp": 1693500460305,
     "user": {
      "displayName": "Diogo Resende",
      "userId": "05706604408624562002"
     },
     "user_tz": -120
    },
    "id": "0SNoPK8cHmNX",
    "outputId": "e53902cc-3b0b-4c7e-d445-5326775b0fc7"
   },
   "outputs": [],
   "source": [
    "#installing libraries\n",
    "#!pip install yfinance\n",
    "#!pip install tfcausalimpact"
   ]
  },
  {
   "cell_type": "code",
   "execution_count": 2,
   "metadata": {
    "executionInfo": {
     "elapsed": 6424,
     "status": "ok",
     "timestamp": 1693500483643,
     "user": {
      "displayName": "Diogo Resende",
      "userId": "05706604408624562002"
     },
     "user_tz": -120
    },
    "id": "cMib4KDEHO6o"
   },
   "outputs": [
    {
     "name": "stdout",
     "output_type": "stream",
     "text": [
      "WARNING:tensorflow:From C:\\Users\\LGPC\\anaconda3\\lib\\site-packages\\tf_keras\\src\\losses.py:2976: The name tf.losses.sparse_softmax_cross_entropy is deprecated. Please use tf.compat.v1.losses.sparse_softmax_cross_entropy instead.\n",
      "\n",
      "WARNING:tensorflow:From C:\\Users\\LGPC\\anaconda3\\lib\\site-packages\\tensorflow_probability\\python\\internal\\backend\\numpy\\_utils.py:48: The name tf.logging.TaskLevelStatusMessage is deprecated. Please use tf.compat.v1.logging.TaskLevelStatusMessage instead.\n",
      "\n",
      "WARNING:tensorflow:From C:\\Users\\LGPC\\anaconda3\\lib\\site-packages\\tensorflow_probability\\python\\internal\\backend\\numpy\\_utils.py:48: The name tf.control_flow_v2_enabled is deprecated. Please use tf.compat.v1.control_flow_v2_enabled instead.\n",
      "\n"
     ]
    }
   ],
   "source": [
    "#import libraries\n",
    "import yfinance as yf\n",
    "import pandas as pd\n",
    "from causalimpact import CausalImpact\n",
    "import seaborn as sns\n",
    "import matplotlib.pyplot as plt"
   ]
  },
  {
   "cell_type": "code",
   "execution_count": 28,
   "metadata": {
    "executionInfo": {
     "elapsed": 30,
     "status": "ok",
     "timestamp": 1693500483644,
     "user": {
      "displayName": "Diogo Resende",
      "userId": "05706604408624562002"
     },
     "user_tz": -120
    },
    "id": "wgB3umC-IMRM"
   },
   "outputs": [],
   "source": [
    "#Dates\n",
    "start = \"2015-12-28\"\n",
    "training_end = \"2018-03-05\"\n",
    "treatment_start = \"2018-03-12\"\n",
    "treatment_end = \"2018-07-16\"\n",
    "end_stock = \"2018-07-17\""
   ]
  },
  {
   "cell_type": "code",
   "execution_count": 29,
   "metadata": {
    "colab": {
     "base_uri": "https://localhost:8080/"
    },
    "executionInfo": {
     "elapsed": 387,
     "status": "ok",
     "timestamp": 1693500485737,
     "user": {
      "displayName": "Diogo Resende",
      "userId": "05706604408624562002"
     },
     "user_tz": -120
    },
    "id": "0TGDRBNOIbT1",
    "outputId": "16ed0ec6-42f7-45cc-984e-284651a1c4af"
   },
   "outputs": [
    {
     "name": "stderr",
     "output_type": "stream",
     "text": [
      "[*********************100%%**********************]  1 of 1 completed\n"
     ]
    },
    {
     "data": {
      "text/plain": [
       "Date\n",
       "2014-01-01    116.672958\n",
       "Name: y, dtype: float64"
      ]
     },
     "execution_count": 29,
     "metadata": {},
     "output_type": "execute_result"
    }
   ],
   "source": [
    "#Download VW stock\n",
    "y = [\"VOW.DE\"]\n",
    "y = yf.download(tickers = y,\n",
    "                start = training_start,\n",
    "                end = end_stock,\n",
    "                interval = \"1wk\")\n",
    "y = y['Adj Close'].rename(\"y\")\n",
    "y.head(1)"
   ]
  },
  {
   "cell_type": "code",
   "execution_count": 77,
   "metadata": {
    "colab": {
     "base_uri": "https://localhost:8080/",
     "height": 256
    },
    "executionInfo": {
     "elapsed": 1163,
     "status": "ok",
     "timestamp": 1693500488174,
     "user": {
      "displayName": "Diogo Resende",
      "userId": "05706604408624562002"
     },
     "user_tz": -120
    },
    "id": "sr865iCwKlIj",
    "outputId": "a7d0c12c-86fd-49ad-ce4f-b69aa8b8c5d4"
   },
   "outputs": [
    {
     "name": "stderr",
     "output_type": "stream",
     "text": [
      "[*********************100%%**********************]  4 of 4 completed\n"
     ]
    },
    {
     "data": {
      "text/html": [
       "<div>\n",
       "<style scoped>\n",
       "    .dataframe tbody tr th:only-of-type {\n",
       "        vertical-align: middle;\n",
       "    }\n",
       "\n",
       "    .dataframe tbody tr th {\n",
       "        vertical-align: top;\n",
       "    }\n",
       "\n",
       "    .dataframe thead th {\n",
       "        text-align: right;\n",
       "    }\n",
       "</style>\n",
       "<table border=\"1\" class=\"dataframe\">\n",
       "  <thead>\n",
       "    <tr style=\"text-align: right;\">\n",
       "      <th>Ticker</th>\n",
       "      <th>DIS</th>\n",
       "      <th>MCD</th>\n",
       "      <th>META</th>\n",
       "      <th>NVS</th>\n",
       "    </tr>\n",
       "    <tr>\n",
       "      <th>Date</th>\n",
       "      <th></th>\n",
       "      <th></th>\n",
       "      <th></th>\n",
       "      <th></th>\n",
       "    </tr>\n",
       "  </thead>\n",
       "  <tbody>\n",
       "    <tr>\n",
       "      <th>2014-01-06</th>\n",
       "      <td>68.839661</td>\n",
       "      <td>72.664146</td>\n",
       "      <td>57.821182</td>\n",
       "      <td>48.912109</td>\n",
       "    </tr>\n",
       "    <tr>\n",
       "      <th>2014-01-13</th>\n",
       "      <td>67.552177</td>\n",
       "      <td>72.004272</td>\n",
       "      <td>56.184544</td>\n",
       "      <td>48.815895</td>\n",
       "    </tr>\n",
       "    <tr>\n",
       "      <th>2014-01-20</th>\n",
       "      <td>66.401642</td>\n",
       "      <td>71.625023</td>\n",
       "      <td>54.338337</td>\n",
       "      <td>48.010124</td>\n",
       "    </tr>\n",
       "    <tr>\n",
       "      <th>2014-01-27</th>\n",
       "      <td>66.301201</td>\n",
       "      <td>71.427803</td>\n",
       "      <td>62.441685</td>\n",
       "      <td>47.547100</td>\n",
       "    </tr>\n",
       "    <tr>\n",
       "      <th>2014-02-03</th>\n",
       "      <td>69.095329</td>\n",
       "      <td>72.755180</td>\n",
       "      <td>64.188103</td>\n",
       "      <td>48.659550</td>\n",
       "    </tr>\n",
       "  </tbody>\n",
       "</table>\n",
       "</div>"
      ],
      "text/plain": [
       "Ticker            DIS        MCD       META        NVS\n",
       "Date                                                  \n",
       "2014-01-06  68.839661  72.664146  57.821182  48.912109\n",
       "2014-01-13  67.552177  72.004272  56.184544  48.815895\n",
       "2014-01-20  66.401642  71.625023  54.338337  48.010124\n",
       "2014-01-27  66.301201  71.427803  62.441685  47.547100\n",
       "2014-02-03  69.095329  72.755180  64.188103  48.659550"
      ]
     },
     "execution_count": 77,
     "metadata": {},
     "output_type": "execute_result"
    }
   ],
   "source": [
    "#Dowload the control groups\n",
    "stocks = [\"META\", \"DIS\", \"NVS\", \"MCD\"]\n",
    "X = yf.download(tickers = stocks,\n",
    "                start = training_start,\n",
    "                end = end_stock,\n",
    "                interval = \"1wk\")\n",
    "X = X.iloc[:,:len(stocks)]\n",
    "X.columns = X.columns.droplevel()\n",
    "X.head()"
   ]
  },
  {
   "cell_type": "markdown",
   "metadata": {
    "id": "CSPvzXbHLU8c"
   },
   "source": [
    "#Correlation Matrix"
   ]
  },
  {
   "cell_type": "code",
   "execution_count": 78,
   "metadata": {
    "colab": {
     "base_uri": "https://localhost:8080/",
     "height": 237
    },
    "executionInfo": {
     "elapsed": 6,
     "status": "ok",
     "timestamp": 1693500490107,
     "user": {
      "displayName": "Diogo Resende",
      "userId": "05706604408624562002"
     },
     "user_tz": -120
    },
    "id": "hR08aY9YLTQP",
    "outputId": "9fd1b89f-de14-4edf-fffe-287b308b5b3a"
   },
   "outputs": [
    {
     "data": {
      "text/html": [
       "<div>\n",
       "<style scoped>\n",
       "    .dataframe tbody tr th:only-of-type {\n",
       "        vertical-align: middle;\n",
       "    }\n",
       "\n",
       "    .dataframe tbody tr th {\n",
       "        vertical-align: top;\n",
       "    }\n",
       "\n",
       "    .dataframe thead th {\n",
       "        text-align: right;\n",
       "    }\n",
       "</style>\n",
       "<table border=\"1\" class=\"dataframe\">\n",
       "  <thead>\n",
       "    <tr style=\"text-align: right;\">\n",
       "      <th>Ticker</th>\n",
       "      <th>DIS</th>\n",
       "      <th>MCD</th>\n",
       "      <th>META</th>\n",
       "      <th>NVS</th>\n",
       "    </tr>\n",
       "    <tr>\n",
       "      <th>Date</th>\n",
       "      <th></th>\n",
       "      <th></th>\n",
       "      <th></th>\n",
       "      <th></th>\n",
       "    </tr>\n",
       "  </thead>\n",
       "  <tbody>\n",
       "    <tr>\n",
       "      <th>2018-06-18</th>\n",
       "      <td>102.606850</td>\n",
       "      <td>143.026993</td>\n",
       "      <td>201.326294</td>\n",
       "      <td>53.551937</td>\n",
       "    </tr>\n",
       "    <tr>\n",
       "      <th>2018-06-25</th>\n",
       "      <td>101.130547</td>\n",
       "      <td>136.195099</td>\n",
       "      <td>193.921509</td>\n",
       "      <td>53.894402</td>\n",
       "    </tr>\n",
       "    <tr>\n",
       "      <th>2018-07-02</th>\n",
       "      <td>101.101624</td>\n",
       "      <td>138.567993</td>\n",
       "      <td>202.813217</td>\n",
       "      <td>55.057327</td>\n",
       "    </tr>\n",
       "    <tr>\n",
       "      <th>2018-07-09</th>\n",
       "      <td>106.991539</td>\n",
       "      <td>137.777023</td>\n",
       "      <td>206.894852</td>\n",
       "      <td>56.205990</td>\n",
       "    </tr>\n",
       "    <tr>\n",
       "      <th>2018-07-16</th>\n",
       "      <td>107.283333</td>\n",
       "      <td>138.854858</td>\n",
       "      <td>209.559372</td>\n",
       "      <td>56.148914</td>\n",
       "    </tr>\n",
       "  </tbody>\n",
       "</table>\n",
       "</div>"
      ],
      "text/plain": [
       "Ticker             DIS         MCD        META        NVS\n",
       "Date                                                     \n",
       "2018-06-18  102.606850  143.026993  201.326294  53.551937\n",
       "2018-06-25  101.130547  136.195099  193.921509  53.894402\n",
       "2018-07-02  101.101624  138.567993  202.813217  55.057327\n",
       "2018-07-09  106.991539  137.777023  206.894852  56.205990\n",
       "2018-07-16  107.283333  138.854858  209.559372  56.148914"
      ]
     },
     "execution_count": 78,
     "metadata": {},
     "output_type": "execute_result"
    }
   ],
   "source": [
    "#Subset the training data\n",
    "df_training = X[X.index <= \"2018-07-16\"]\n",
    "df_training.tail()"
   ]
  },
  {
   "cell_type": "code",
   "execution_count": 79,
   "metadata": {},
   "outputs": [
    {
     "data": {
      "text/html": [
       "<style type=\"text/css\">\n",
       "#T_07d70_row0_col0, #T_07d70_row1_col1, #T_07d70_row2_col2, #T_07d70_row3_col3 {\n",
       "  background-color: #08306b;\n",
       "  color: #f1f1f1;\n",
       "}\n",
       "#T_07d70_row0_col1 {\n",
       "  background-color: #549fcd;\n",
       "  color: #f1f1f1;\n",
       "}\n",
       "#T_07d70_row0_col2 {\n",
       "  background-color: #3f8fc5;\n",
       "  color: #f1f1f1;\n",
       "}\n",
       "#T_07d70_row0_col3 {\n",
       "  background-color: #a4cce3;\n",
       "  color: #000000;\n",
       "}\n",
       "#T_07d70_row1_col0 {\n",
       "  background-color: #add0e6;\n",
       "  color: #000000;\n",
       "}\n",
       "#T_07d70_row1_col2, #T_07d70_row2_col1 {\n",
       "  background-color: #083776;\n",
       "  color: #f1f1f1;\n",
       "}\n",
       "#T_07d70_row1_col3, #T_07d70_row3_col0, #T_07d70_row3_col1, #T_07d70_row3_col2 {\n",
       "  background-color: #f7fbff;\n",
       "  color: #000000;\n",
       "}\n",
       "#T_07d70_row2_col0 {\n",
       "  background-color: #84bcdb;\n",
       "  color: #000000;\n",
       "}\n",
       "#T_07d70_row2_col3 {\n",
       "  background-color: #f4f9fe;\n",
       "  color: #000000;\n",
       "}\n",
       "</style>\n",
       "<table id=\"T_07d70\">\n",
       "  <thead>\n",
       "    <tr>\n",
       "      <th class=\"index_name level0\" >Ticker</th>\n",
       "      <th id=\"T_07d70_level0_col0\" class=\"col_heading level0 col0\" >DIS</th>\n",
       "      <th id=\"T_07d70_level0_col1\" class=\"col_heading level0 col1\" >MCD</th>\n",
       "      <th id=\"T_07d70_level0_col2\" class=\"col_heading level0 col2\" >META</th>\n",
       "      <th id=\"T_07d70_level0_col3\" class=\"col_heading level0 col3\" >NVS</th>\n",
       "    </tr>\n",
       "    <tr>\n",
       "      <th class=\"index_name level0\" >Ticker</th>\n",
       "      <th class=\"blank col0\" >&nbsp;</th>\n",
       "      <th class=\"blank col1\" >&nbsp;</th>\n",
       "      <th class=\"blank col2\" >&nbsp;</th>\n",
       "      <th class=\"blank col3\" >&nbsp;</th>\n",
       "    </tr>\n",
       "  </thead>\n",
       "  <tbody>\n",
       "    <tr>\n",
       "      <th id=\"T_07d70_level0_row0\" class=\"row_heading level0 row0\" >DIS</th>\n",
       "      <td id=\"T_07d70_row0_col0\" class=\"data row0 col0\" >1.000000</td>\n",
       "      <td id=\"T_07d70_row0_col1\" class=\"data row0 col1\" >0.539927</td>\n",
       "      <td id=\"T_07d70_row0_col2\" class=\"data row0 col2\" >0.615688</td>\n",
       "      <td id=\"T_07d70_row0_col3\" class=\"data row0 col3\" >0.314453</td>\n",
       "    </tr>\n",
       "    <tr>\n",
       "      <th id=\"T_07d70_level0_row1\" class=\"row_heading level0 row1\" >MCD</th>\n",
       "      <td id=\"T_07d70_row1_col0\" class=\"data row1 col0\" >0.539927</td>\n",
       "      <td id=\"T_07d70_row1_col1\" class=\"data row1 col1\" >1.000000</td>\n",
       "      <td id=\"T_07d70_row1_col2\" class=\"data row1 col2\" >0.967516</td>\n",
       "      <td id=\"T_07d70_row1_col3\" class=\"data row1 col3\" >-0.066291</td>\n",
       "    </tr>\n",
       "    <tr>\n",
       "      <th id=\"T_07d70_level0_row2\" class=\"row_heading level0 row2\" >META</th>\n",
       "      <td id=\"T_07d70_row2_col0\" class=\"data row2 col0\" >0.615688</td>\n",
       "      <td id=\"T_07d70_row2_col1\" class=\"data row2 col1\" >0.967516</td>\n",
       "      <td id=\"T_07d70_row2_col2\" class=\"data row2 col2\" >1.000000</td>\n",
       "      <td id=\"T_07d70_row2_col3\" class=\"data row2 col3\" >-0.048328</td>\n",
       "    </tr>\n",
       "    <tr>\n",
       "      <th id=\"T_07d70_level0_row3\" class=\"row_heading level0 row3\" >NVS</th>\n",
       "      <td id=\"T_07d70_row3_col0\" class=\"data row3 col0\" >0.314453</td>\n",
       "      <td id=\"T_07d70_row3_col1\" class=\"data row3 col1\" >-0.066291</td>\n",
       "      <td id=\"T_07d70_row3_col2\" class=\"data row3 col2\" >-0.048328</td>\n",
       "      <td id=\"T_07d70_row3_col3\" class=\"data row3 col3\" >1.000000</td>\n",
       "    </tr>\n",
       "  </tbody>\n",
       "</table>\n"
      ],
      "text/plain": [
       "<pandas.io.formats.style.Styler at 0x2451dd2bc40>"
      ]
     },
     "execution_count": 79,
     "metadata": {},
     "output_type": "execute_result"
    }
   ],
   "source": [
    "df_training.corr().style.background_gradient(cmap='Blues')"
   ]
  },
  {
   "cell_type": "code",
   "execution_count": 80,
   "metadata": {
    "colab": {
     "base_uri": "https://localhost:8080/",
     "height": 81
    },
    "executionInfo": {
     "elapsed": 252,
     "status": "ok",
     "timestamp": 1693500494627,
     "user": {
      "displayName": "Diogo Resende",
      "userId": "05706604408624562002"
     },
     "user_tz": -120
    },
    "id": "DIbqY1uGMSsQ",
    "outputId": "c3935157-fb52-4cbe-c2f9-e73fa9f8b86f"
   },
   "outputs": [
    {
     "data": {
      "text/html": [
       "<div>\n",
       "<style scoped>\n",
       "    .dataframe tbody tr th:only-of-type {\n",
       "        vertical-align: middle;\n",
       "    }\n",
       "\n",
       "    .dataframe tbody tr th {\n",
       "        vertical-align: top;\n",
       "    }\n",
       "\n",
       "    .dataframe thead th {\n",
       "        text-align: right;\n",
       "    }\n",
       "</style>\n",
       "<table border=\"1\" class=\"dataframe\">\n",
       "  <thead>\n",
       "    <tr style=\"text-align: right;\">\n",
       "      <th>Ticker</th>\n",
       "      <th>META</th>\n",
       "      <th>MCD</th>\n",
       "    </tr>\n",
       "    <tr>\n",
       "      <th>Date</th>\n",
       "      <th></th>\n",
       "      <th></th>\n",
       "    </tr>\n",
       "  </thead>\n",
       "  <tbody>\n",
       "    <tr>\n",
       "      <th>2014-01-06</th>\n",
       "      <td>57.821182</td>\n",
       "      <td>72.664146</td>\n",
       "    </tr>\n",
       "    <tr>\n",
       "      <th>2014-01-13</th>\n",
       "      <td>56.184544</td>\n",
       "      <td>72.004272</td>\n",
       "    </tr>\n",
       "    <tr>\n",
       "      <th>2014-01-20</th>\n",
       "      <td>54.338337</td>\n",
       "      <td>71.625023</td>\n",
       "    </tr>\n",
       "    <tr>\n",
       "      <th>2014-01-27</th>\n",
       "      <td>62.441685</td>\n",
       "      <td>71.427803</td>\n",
       "    </tr>\n",
       "    <tr>\n",
       "      <th>2014-02-03</th>\n",
       "      <td>64.188103</td>\n",
       "      <td>72.755180</td>\n",
       "    </tr>\n",
       "  </tbody>\n",
       "</table>\n",
       "</div>"
      ],
      "text/plain": [
       "Ticker           META        MCD\n",
       "Date                            \n",
       "2014-01-06  57.821182  72.664146\n",
       "2014-01-13  56.184544  72.004272\n",
       "2014-01-20  54.338337  71.625023\n",
       "2014-01-27  62.441685  71.427803\n",
       "2014-02-03  64.188103  72.755180"
      ]
     },
     "execution_count": 80,
     "metadata": {},
     "output_type": "execute_result"
    }
   ],
   "source": [
    "#Preparing final df\n",
    "df_final = df_training[[\"META\", \"MCD\"]]\n",
    "df_final.head()"
   ]
  },
  {
   "cell_type": "code",
   "execution_count": 81,
   "metadata": {},
   "outputs": [],
   "source": [
    "df_final=df_final.dropna()"
   ]
  },
  {
   "cell_type": "markdown",
   "metadata": {
    "id": "0MZ1Iai_Mjx1"
   },
   "source": [
    "#Google Causal Impact"
   ]
  },
  {
   "cell_type": "code",
   "execution_count": 82,
   "metadata": {
    "colab": {
     "base_uri": "https://localhost:8080/"
    },
    "executionInfo": {
     "elapsed": 4,
     "status": "ok",
     "timestamp": 1693500496278,
     "user": {
      "displayName": "Diogo Resende",
      "userId": "05706604408624562002"
     },
     "user_tz": -120
    },
    "id": "t6GfsWlvNzPm",
    "outputId": "964f499d-97ea-4619-a9b3-5fd8a05a5386"
   },
   "outputs": [
    {
     "name": "stdout",
     "output_type": "stream",
     "text": [
      "Ticker           META        MCD\n",
      "Date                            \n",
      "2014-01-06  57.821182  72.664146\n",
      "Ticker            META         MCD\n",
      "Date                              \n",
      "2018-05-14  182.305374  139.040726\n",
      "2018-05-21  184.540771  140.966827\n",
      "2018-05-28  193.592178  137.468781\n",
      "2018-06-04  188.712219  146.816727\n",
      "2018-06-11  195.448364  144.687210\n",
      "2018-06-18  201.326294  143.026993\n",
      "2018-06-25  193.921509  136.195099\n",
      "2018-07-02  202.813217  138.567993\n",
      "2018-07-09  206.894852  137.777023\n",
      "2018-07-16  209.559372  138.854858\n"
     ]
    }
   ],
   "source": [
    "#Get first and last date\n",
    "print(df_final.head(1))\n",
    "print(df_final.tail(10))"
   ]
  },
  {
   "cell_type": "code",
   "execution_count": 83,
   "metadata": {
    "executionInfo": {
     "elapsed": 228,
     "status": "ok",
     "timestamp": 1693500500733,
     "user": {
      "displayName": "Diogo Resende",
      "userId": "05706604408624562002"
     },
     "user_tz": -120
    },
    "id": "ThRcID_-NyXx"
   },
   "outputs": [],
   "source": [
    "#Dates\n",
    "start = \"2015-12-28\"\n",
    "training_end = \"2018-03-05\"\n",
    "treatment_start = \"2018-03-12\"\n",
    "treatment_end = \"2018-07-16\"\n",
    "end_stock = \"2018-07-17\""
   ]
  },
  {
   "cell_type": "code",
   "execution_count": 84,
   "metadata": {
    "executionInfo": {
     "elapsed": 5,
     "status": "ok",
     "timestamp": 1693500500979,
     "user": {
      "displayName": "Diogo Resende",
      "userId": "05706604408624562002"
     },
     "user_tz": -120
    },
    "id": "ie3hcazoMfec"
   },
   "outputs": [],
   "source": [
    "#Define Pre and Post Period\n",
    "pre_period = [training_start, training_end]\n",
    "post_period = [treatment_start, treatment_end]"
   ]
  },
  {
   "cell_type": "code",
   "execution_count": 85,
   "metadata": {
    "colab": {
     "base_uri": "https://localhost:8080/"
    },
    "executionInfo": {
     "elapsed": 40665,
     "status": "ok",
     "timestamp": 1693500544373,
     "user": {
      "displayName": "Diogo Resende",
      "userId": "05706604408624562002"
     },
     "user_tz": -120
    },
    "id": "yIGTYS1qMvti",
    "outputId": "1be50823-d6e0-4d2e-f705-accd358d4524"
   },
   "outputs": [
    {
     "name": "stdout",
     "output_type": "stream",
     "text": [
      "WARNING:tensorflow:5 out of the last 5 calls to <bound method LinearGaussianStateSpaceModel.forward_filter of <tfp.distributions.AdditiveStateSpaceModel 'AdditiveStateSpaceModel' batch_shape=[100] event_shape=[218, 1] dtype=float32>> triggered tf.function retracing. Tracing is expensive and the excessive number of tracings could be due to (1) creating @tf.function repeatedly in a loop, (2) passing tensors with different shapes, (3) passing Python objects instead of tensors. For (1), please define your @tf.function outside of the loop. For (2), @tf.function has reduce_retracing=True option that can avoid unnecessary retracing. For (3), please refer to https://www.tensorflow.org/guide/function#controlling_retracing and https://www.tensorflow.org/api_docs/python/tf/function for  more details.\n",
      "WARNING:tensorflow:6 out of the last 6 calls to <bound method LinearGaussianStateSpaceModel.forward_filter of <tfp.distributions.AdditiveStateSpaceModel 'AdditiveStateSpaceModel' batch_shape=[100] event_shape=[218, 1] dtype=float32>> triggered tf.function retracing. Tracing is expensive and the excessive number of tracings could be due to (1) creating @tf.function repeatedly in a loop, (2) passing tensors with different shapes, (3) passing Python objects instead of tensors. For (1), please define your @tf.function outside of the loop. For (2), @tf.function has reduce_retracing=True option that can avoid unnecessary retracing. For (3), please refer to https://www.tensorflow.org/guide/function#controlling_retracing and https://www.tensorflow.org/api_docs/python/tf/function for  more details.\n"
     ]
    }
   ],
   "source": [
    "#CI\n",
    "impact = CausalImpact(data = df_final,\n",
    "                      pre_period = pre_period,\n",
    "                      post_period = post_period)"
   ]
  },
  {
   "cell_type": "code",
   "execution_count": 86,
   "metadata": {
    "colab": {
     "base_uri": "https://localhost:8080/",
     "height": 607
    },
    "executionInfo": {
     "elapsed": 2666,
     "status": "ok",
     "timestamp": 1693500547026,
     "user": {
      "displayName": "Diogo Resende",
      "userId": "05706604408624562002"
     },
     "user_tz": -120
    },
    "id": "X2Uyer--M8A1",
    "outputId": "60093dcb-929e-4498-9da1-16a05ce126c9"
   },
   "outputs": [
    {
     "data": {
      "image/png": "[encoded data removed]",
      "text/plain": [
       "<Figure size 1000x700 with 3 Axes>"
      ]
     },
     "metadata": {},
     "output_type": "display_data"
    }
   ],
   "source": [
    "#Output\n",
    "impact.plot()"
   ]
  },
  {
   "cell_type": "markdown",
   "metadata": {},
   "source": [
    "The scadal initially had negative impact on stock price but gradually turned into positive effect"
   ]
  },
  {
   "cell_type": "code",
   "execution_count": 87,
   "metadata": {
    "colab": {
     "base_uri": "https://localhost:8080/"
    },
    "executionInfo": {
     "elapsed": 34,
     "status": "ok",
     "timestamp": 1693500547026,
     "user": {
      "displayName": "Diogo Resende",
      "userId": "05706604408624562002"
     },
     "user_tz": -120
    },
    "id": "79j-7vFzM3tP",
    "outputId": "943c4db1-65bc-4d80-8a71-92c34f1cc679"
   },
   "outputs": [
    {
     "name": "stdout",
     "output_type": "stream",
     "text": [
      "Posterior Inference {Causal Impact}\n",
      "                          Average            Cumulative\n",
      "Actual                    183.44             3485.44\n",
      "Prediction (s.d.)         180.15 (4.85)      3422.85 (92.1)\n",
      "95% CI                    [170.57, 189.57]   [3240.76, 3601.77]\n",
      "\n",
      "Absolute effect (s.d.)    3.29 (4.85)        62.59 (92.1)\n",
      "95% CI                    [-6.12, 12.88]     [-116.33, 244.68]\n",
      "\n",
      "Relative effect (s.d.)    1.83% (2.69%)      1.83% (2.69%)\n",
      "95% CI                    [-3.4%, 7.15%]     [-3.4%, 7.15%]\n",
      "\n",
      "Posterior tail-area probability p: 0.25\n",
      "Posterior prob. of a causal effect: 75.02%\n",
      "\n",
      "For more details run the command: print(impact.summary('report'))\n"
     ]
    }
   ],
   "source": [
    "#summary\n",
    "print(impact.summary())"
   ]
  },
  {
   "cell_type": "code",
   "execution_count": 89,
   "metadata": {},
   "outputs": [
    {
     "name": "stdout",
     "output_type": "stream",
     "text": [
      "Analysis report {CausalImpact}\n",
      "\n",
      "\n",
      "During the post-intervention period, the response variable had\n",
      "an average value of approx. 183.44. In the absence of an\n",
      "intervention, we would have expected an average response of 180.15.\n",
      "The 95% interval of this counterfactual prediction is [170.57, 189.57].\n",
      "Subtracting this prediction from the observed response yields\n",
      "an estimate of the causal effect the intervention had on the\n",
      "response variable. This effect is 3.29 with a 95% interval of\n",
      "[-6.12, 12.88]. For a discussion of the significance of this effect,\n",
      "see below.\n",
      "\n",
      "\n",
      "Summing up the individual data points during the post-intervention\n",
      "period (which can only sometimes be meaningfully interpreted), the\n",
      "response variable had an overall value of 3485.44.\n",
      "Had the intervention not taken place, we would have expected\n",
      "a sum of 3422.85. The 95% interval of this prediction is [3240.76, 3601.77].\n",
      "\n",
      "\n",
      "The above results are given in terms of absolute numbers. In relative\n",
      "terms, the response variable showed an increase of +1.83%. The 95%\n",
      "interval of this percentage is [-3.4%, 7.15%].\n",
      "\n",
      "\n",
      "This means that, although the intervention appears to have caused a\n",
      "positive effect, this effect is not statistically significant when\n",
      "considering the entire post-intervention period as a whole. Individual\n",
      "days or shorter stretches within the intervention period may of course\n",
      "still have had a significant effect, as indicated whenever the lower\n",
      "limit of the impact time series (lower plot) was above zero.\n",
      "\n",
      "\n",
      "The apparent effect could be the result of random fluctuations that\n",
      "are unrelated to the intervention. This is often the case when the\n",
      "intervention period is very long and includes much of the time when\n",
      "the effect has already worn off. It can also be the case when the\n",
      "intervention period is too short to distinguish the signal from the\n",
      "noise. Finally, failing to find a significant effect can happen when\n",
      "there are not enough control variables or when these variables do not\n",
      "correlate well with the response variable during the learning period.\n",
      "\n",
      "\n",
      "The probability of obtaining this effect by chance is p = 24.98%.\n",
      "This means the effect may be spurious and would generally not be\n",
      "considered statistically significant.\n"
     ]
    }
   ],
   "source": [
    "print(impact.summary('report'))"
   ]
  },
  {
   "cell_type": "code",
   "execution_count": null,
   "metadata": {},
   "outputs": [],
   "source": []
  }
 ],
 "metadata": {
  "colab": {
   "authorship_tag": "ABX9TyMr1W8ZNH5Egaf5egcJ1kVC",
   "provenance": []
  },
  "kernelspec": {
   "display_name": "Python 3 (ipykernel)",
   "language": "python",
   "name": "python3"
  },
  "language_info": {
   "codemirror_mode": {
    "name": "ipython",
    "version": 3
   },
   "file_extension": ".py",
   "mimetype": "text/x-python",
   "name": "python",
   "nbconvert_exporter": "python",
   "pygments_lexer": "ipython3",
   "version": "3.10.9"
  }
 },
 "nbformat": 4,
 "nbformat_minor": 4
}
